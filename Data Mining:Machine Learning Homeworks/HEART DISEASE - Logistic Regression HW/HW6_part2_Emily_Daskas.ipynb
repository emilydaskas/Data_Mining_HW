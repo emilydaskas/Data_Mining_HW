{
 "cells": [
  {
   "cell_type": "markdown",
   "metadata": {},
   "source": [
    "#### Question 3 (3 points)"
   ]
  },
  {
   "cell_type": "markdown",
   "metadata": {},
   "source": [
    "a. Use the synthetic dataset (created below) to train a logistic regression model on the training set. Calculate the AUC of your prediction on the test set."
   ]
  },
  {
   "cell_type": "code",
   "execution_count": 1,
   "metadata": {},
   "outputs": [],
   "source": [
    "from sklearn import datasets\n",
    "from sklearn.model_selection import train_test_split\n",
    "from sklearn import preprocessing as preproc\n",
    "from sklearn.linear_model import LogisticRegression\n",
    "from sklearn.metrics import roc_auc_score\n",
    "import random\n",
    "from random import sample \n",
    "import numpy as np\n",
    "from matplotlib import pyplot as plt\n",
    "\n",
    "\n",
    "\n",
    "\n",
    "\n",
    "\n",
    "\n",
    "X, y = datasets.make_classification(n_samples=2000, n_features=20,\n",
    "                                    n_informative=3)\n",
    "\n",
    "X_train, X_test, y_train, y_test = train_test_split(X, y, test_size=0.33, random_state=42)"
   ]
  },
  {
   "cell_type": "code",
   "execution_count": 2,
   "metadata": {},
   "outputs": [
    {
     "name": "stdout",
     "output_type": "stream",
     "text": [
      "AUC=  0.8635946223920071\n"
     ]
    }
   ],
   "source": [
    "# Your code goes here\n",
    "\n",
    "logreg = LogisticRegression(solver='lbfgs')\n",
    "\n",
    "logreg.fit(X_train, y_train)\n",
    "\n",
    "probs = logreg.predict_proba(X_test)[:,1]\n",
    "\n",
    "AUC = roc_auc_score(y_test, probs)\n",
    "print(\"AUC= \", AUC)"
   ]
  },
  {
   "cell_type": "markdown",
   "metadata": {},
   "source": [
    "b. Randomly sample 100, 300, and 1000 data points from the training set. For each sample size, randomly sample 1000 times, each time fit a logistic regresson, predict on the test set and calcuate the AUC. Plot a distribution of the 1000 AUCs for each sample size on the same plot. Also, plot the AUC you get from 3a as a verticle line on the same plot as well. (Hints: Plot [distributions/histogram](https://stackoverflow.com/questions/6871201/plot-two-histograms-on-single-chart-with-matplotlib).) "
   ]
  },
  {
   "cell_type": "code",
   "execution_count": 8,
   "metadata": {},
   "outputs": [
    {
     "data": {
      "image/png": "[encoded data removed]",
      "text/plain": [
       "<Figure size 432x288 with 1 Axes>"
      ]
     },
     "metadata": {
      "needs_background": "light"
     },
     "output_type": "display_data"
    }
   ],
   "source": [
    "# Your code goes here\n",
    "indexes = []\n",
    "for x in range(len(X_train)):\n",
    "    indexes.append(x)\n",
    "    \n",
    "sampleSizes = [100, 300, 1000]\n",
    "for size in sampleSizes:\n",
    "    aucs = []\n",
    "    for i in range(1000):\n",
    "        sample = random.sample(indexes, size)\n",
    "        xSample = X_train[sample]\n",
    "        ySample = y_train[sample]\n",
    "        logreg = LogisticRegression(solver='lbfgs')\n",
    "        logreg.fit(xSample, ySample)\n",
    "        probs = logreg.predict_proba(X_test)[:,1]\n",
    "        auc = roc_auc_score(y_test, probs)\n",
    "        aucs.append(auc)\n",
    "    bins = np.linspace(min(aucs), max(aucs), 100)\n",
    "\n",
    "    plt.hist(aucs, bins, alpha=0.5, label= size)\n",
    "plt.axvline(AUC, color='black', linewidth=2)\n",
    "plt.legend(title = 'Sample Size', loc='upper left')\n",
    "plt.title('AUC Distributions of Diferent Sample Sizes')\n",
    "plt.show()\n"
   ]
  },
  {
   "cell_type": "markdown",
   "metadata": {},
   "source": [
    "c. What pattern did you see from the plot you get from 3b? Explain your findings."
   ]
  },
  {
   "cell_type": "markdown",
   "metadata": {},
   "source": [
    "The larger the sample size, the narrower the histogram/ bell-shaped distribution becomes. Also the peak of the distribution (also the entire curve) is shifted right with increasing sample sizes indecating higher AUCs. This indicates that the higher the sample sizes, will led to overall higher and more consistant AUCs. Higher AUCs indicate better models. The AUC from 3a (the vertical line) is just about where the peak of the 1000 sample distribution lies which also shows the accuracy/more reliable model with a larger sample size."
   ]
  }
 ],
 "metadata": {
  "kernelspec": {
   "display_name": "Python 3",
   "language": "python",
   "name": "python3"
  },
  "language_info": {
   "codemirror_mode": {
    "name": "ipython",
    "version": 3
   },
   "file_extension": ".py",
   "mimetype": "text/x-python",
   "name": "python",
   "nbconvert_exporter": "python",
   "pygments_lexer": "ipython3",
   "version": "3.7.4"
  }
 },
 "nbformat": 4,
 "nbformat_minor": 2
}
