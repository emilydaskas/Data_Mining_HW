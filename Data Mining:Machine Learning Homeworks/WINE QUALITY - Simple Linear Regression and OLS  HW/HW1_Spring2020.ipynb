{
 "cells": [
  {
   "cell_type": "markdown",
   "metadata": {},
   "source": [
    "## Simple Linear Regression_Ordinary Least Squares (OLS)\n"
   ]
  },
  {
   "cell_type": "markdown",
   "metadata": {},
   "source": [
    "#### Q1 (2 points)  \n",
    "In these exercises we'll be working with simple linear regression. Simple linear regression is an approach for predicting a response using only a single feature.\n",
    "\n",
    "To create our model, we must “learn” or estimate the values of the regression coefficients $\\hat{\\beta}0$ and $\\hat{\\beta}1$. Once we’ve estimated these coefficients, we can use the model to predict responses. Here we are going to use the Least Squares technique as the cost function to estimate the coefficients.\n"
   ]
  },
  {
   "cell_type": "code",
   "execution_count": 7,
   "metadata": {},
   "outputs": [
    {
     "data": {
      "text/plain": [
       "(-13.967914438502673, 0.3422459893048128)"
      ]
     },
     "execution_count": 7,
     "metadata": {},
     "output_type": "execute_result"
    }
   ],
   "source": [
    "import numpy as np \n",
    "def estimate_coef_OLS(X, y): \n",
    "\n",
    "\n",
    "    # x: np array of input with size n\n",
    "    # y: np array of response/output with size n\n",
    "    ### YOUR CODE HERE ###\n",
    "                # calculating regression coefficients(B0,B1)\n",
    "        \n",
    "    numerator = 0\n",
    "    denominator = 0\n",
    "\n",
    "    meanX = np.mean(X)\n",
    "    meanY = np.mean(y)\n",
    "    \n",
    "    for i in range(len(X)):\n",
    "        numerator += (y[i] - meanY)*(X[i] - meanX)\n",
    "        denominator += (X[i] - meanX)**2\n",
    "        \n",
    "    B1 = numerator / denominator\n",
    "    B0 = meanY - meanX * B1\n",
    "\n",
    "    return(B0, B1) \n",
    "\n",
    "estimate_coef_OLS(np.array([65,69,72,74,76]), np.array([8,10,11,11,12]))"
   ]
  },
  {
   "cell_type": "markdown",
   "metadata": {},
   "source": [
    "#### Q2 (4 points)  \n",
    "Scikit-learn includes a number of dataset simulation functions, one of which is \"make_regression ()\". Importantly, we can create a dataset for regression that has both informative features and uninformative features, this makes for a good exercise in model selection."
   ]
  },
  {
   "cell_type": "code",
   "execution_count": 8,
   "metadata": {},
   "outputs": [],
   "source": [
    "import numpy as np \n",
    "from sklearn import linear_model, datasets\n",
    "\n",
    "n_samples = 100\n",
    "n_outliers = 5\n",
    "X, y, coef = datasets.make_regression(n_samples=n_samples, n_features=1,\n",
    "                                      n_informative=1, noise=10,\n",
    "                                      coef=True, random_state=2)\n",
    "    # Add outlier data\n",
    "np.random.seed(1)\n",
    "X[:n_outliers] = 15 + 0.7 * np.random.normal(size=(n_outliers, 1))"
   ]
  },
  {
   "cell_type": "markdown",
   "metadata": {},
   "source": [
    " a) Plot the data (X and y)\n",
    " \n",
    " b) Use your code from the previous part to find the linear model for this dataset."
   ]
  },
  {
   "cell_type": "code",
   "execution_count": 9,
   "metadata": {},
   "outputs": [
    {
     "data": {
      "text/plain": [
       "<Figure size 640x480 with 1 Axes>"
      ]
     },
     "metadata": {},
     "output_type": "display_data"
    }
   ],
   "source": [
    "from matplotlib import pyplot as plt\n",
    "from sklearn.linear_model import LinearRegression\n",
    "\n",
    "\n",
    "\n",
    "### YOUR CODE HERE ###\n",
    "# use scatter plot to represent the dataset\n",
    "# Plot the linear regression model that you found from Q1\n",
    "plt.scatter(X, y)\n",
    "\n",
    "def plotLinearRegression(x,y):\n",
    "    B0, B1 = estimate_coef_OLS(x, y)\n",
    "    slope = B0 + B1*x\n",
    "    plt.plot(x, slope, color = \"red\")\n",
    "    plt.show()\n",
    "    \n",
    "plotLinearRegression(X,y)"
   ]
  },
  {
   "cell_type": "markdown",
   "metadata": {},
   "source": [
    "c) Try to find the outliers in this dataset, \n",
    "Then remove the outliers and find a new linear model for the remained data(without outliers)"
   ]
  },
  {
   "cell_type": "code",
   "execution_count": 10,
   "metadata": {},
   "outputs": [
    {
     "data": {
      "image/png": "[encoded data removed]",
      "text/plain": [
       "<Figure size 432x288 with 1 Axes>"
      ]
     },
     "metadata": {
      "needs_background": "light"
     },
     "output_type": "display_data"
    }
   ],
   "source": [
    "# Hint:you can use mean, variance or Z-score for each dimension to find outliers\n",
    "from scipy import stats\n",
    "\n",
    "def removeOutliers(x, y):\n",
    "    \n",
    "    #finding the mean and sd\n",
    "    mean = np.mean(x)\n",
    "    sd = np.std(x)\n",
    "\n",
    "    i = 0\n",
    "    outliers = []\n",
    "\n",
    "    #going through each index of X to see where it is not within the standard deviance\n",
    "    #adding each indexes outside of the sd to an array\n",
    "    for index in x:\n",
    "        if not (index > mean - 3 * sd and index < mean + 3 * sd):\n",
    "            outliers.append(i)\n",
    "        i += 1\n",
    "    \n",
    "    #deleting the corresponding indexes of X and y that fell outside of the standard deviance (the outliers)\n",
    "    #to create new arrays of X and y without outliers\n",
    "    newX = np.delete(x, outliers)    \n",
    "    newY = np.delete(y, outliers)\n",
    "    \n",
    "    return newX, newY\n",
    "\n",
    "x1, y1 = removeOutliers(X,y)\n",
    "\n",
    "plt.scatter(x1, y1)\n",
    "plotLinearRegression(x1,y1)"
   ]
  },
  {
   "cell_type": "markdown",
   "metadata": {},
   "source": [
    "d) Use Statsmodel and Scikit-learn (OLS) and compare the result with part (c)."
   ]
  },
  {
   "cell_type": "code",
   "execution_count": 11,
   "metadata": {},
   "outputs": [
    {
     "name": "stderr",
     "output_type": "stream",
     "text": [
      "No handles with labels found to put in legend.\n"
     ]
    },
    {
     "name": "stdout",
     "output_type": "stream",
     "text": [
      "                                 OLS Regression Results                                \n",
      "=======================================================================================\n",
      "Dep. Variable:                      y   R-squared (uncentered):                   0.978\n",
      "Model:                            OLS   Adj. R-squared (uncentered):              0.977\n",
      "Method:                 Least Squares   F-statistic:                              4093.\n",
      "Date:                Sun, 09 Feb 2020   Prob (F-statistic):                    2.67e-79\n",
      "Time:                        19:35:50   Log-Likelihood:                         -347.52\n",
      "No. Observations:                  95   AIC:                                      697.0\n",
      "Df Residuals:                      94   BIC:                                      699.6\n",
      "Df Model:                           1                                                  \n",
      "Covariance Type:            nonrobust                                                  \n",
      "==============================================================================\n",
      "                 coef    std err          t      P>|t|      [0.025      0.975]\n",
      "------------------------------------------------------------------------------\n",
      "x1            59.6724      0.933     63.976      0.000      57.820      61.524\n",
      "==============================================================================\n",
      "Omnibus:                        0.852   Durbin-Watson:                   2.111\n",
      "Prob(Omnibus):                  0.653   Jarque-Bera (JB):                0.381\n",
      "Skew:                           0.011   Prob(JB):                        0.827\n",
      "Kurtosis:                       3.309   Cond. No.                         1.00\n",
      "==============================================================================\n",
      "\n",
      "Warnings:\n",
      "[1] Standard Errors assume that the covariance matrix of the errors is correctly specified.\n",
      "0.9775494878330449\n"
     ]
    },
    {
     "data": {
      "text/plain": [
       "'I eliminated the outliers using the same function each time, \\nand when using the three different methods, \\nthey all produced identical linear regression models using OLS.\\nThis is evident when looking at all three of the graphs.\\n'"
      ]
     },
     "execution_count": 11,
     "metadata": {},
     "output_type": "execute_result"
    },
    {
     "data": {
      "image/png": "[encoded data removed]",
      "text/plain": [
       "<Figure size 432x288 with 1 Axes>"
      ]
     },
     "metadata": {
      "needs_background": "light"
     },
     "output_type": "display_data"
    },
    {
     "data": {
      "image/png": "[encoded data removed]",
      "text/plain": [
       "<Figure size 432x288 with 1 Axes>"
      ]
     },
     "metadata": {
      "needs_background": "light"
     },
     "output_type": "display_data"
    }
   ],
   "source": [
    "### YOUR CODE HERE ###\n",
    "import statsmodels.api as sm\n",
    "from statsmodels.sandbox.regression.predstd import wls_prediction_std\n",
    "from sklearn.linear_model import LinearRegression\n",
    "import sklearn.metrics as metrics\n",
    "\n",
    "### Statsmodel\n",
    "def statsModel(x,y):\n",
    "    model = sm.OLS(y, x).fit()\n",
    "    prstd = wls_prediction_std(model)\n",
    "\n",
    "    fig, ax = plt.subplots()\n",
    "\n",
    "    ax.scatter(x, y, color = \"blue\")\n",
    "    ax.plot(x, model.fittedvalues, color = \"red\")\n",
    "\n",
    "    ax.legend(loc='best')\n",
    "    ax.set_title(\"Statsmodel\")\n",
    "    print(model.summary())\n",
    "    print(model.rsquared)\n",
    "\n",
    "\n",
    "    \n",
    "\n",
    "\n",
    "### Scikit-Learn\n",
    "def sklearn(x,y):\n",
    "    \n",
    "    model = linear_model.LinearRegression()\n",
    "    x = x.reshape(-1,1)\n",
    "    y = y.reshape(-1,1)\n",
    "    \n",
    "    model.fit(x, y)  # where X is your feature data and y is your target\n",
    "    yPred = model.predict(x)\n",
    "    \n",
    "    fig2, plt2 = plt.subplots()\n",
    "\n",
    "    plt2.scatter(x, y)\n",
    "    plt2.plot(x, yPred, color = \"yellow\")\n",
    "\n",
    "    plt2.set_title(\"Scikit_learn\")\n",
    "    \n",
    "statsModel(x1, y1)\n",
    "\n",
    "sklearn(x1,y1)\n",
    "\n",
    "'''I eliminated the outliers using the same function each time, \n",
    "and when using the three different methods, \n",
    "they all produced identical linear regression models using OLS.\n",
    "This is evident when looking at all three of the graphs.\n",
    "'''\n",
    "\n"
   ]
  },
  {
   "cell_type": "markdown",
   "metadata": {},
   "source": [
    "# Q3 (4 points)\n",
    "Kaggle is a competition platform for data scientists. In this class you will learn how to use the platform to practice data-science skills and \"compete\" with your classmates."
   ]
  },
  {
   "cell_type": "markdown",
   "metadata": {},
   "source": [
    "a) Reigster an account on [kaggle.com](https://www.kaggle.com) if you don't have one yet. Type in your kaggle profile name in the following block."
   ]
  },
  {
   "cell_type": "code",
   "execution_count": 12,
   "metadata": {},
   "outputs": [],
   "source": [
    "### What is your name on your Kaggle profile?\n",
    "\n",
    "#Emily Daskas\n"
   ]
  },
  {
   "cell_type": "markdown",
   "metadata": {},
   "source": [
    "b) Use [this link](https://www.kaggle.com/t/58bf348e221f4a698c302663cd0e8f5e) to the competition page, and click on the top right button \"Join Competition\" to join the competition. The name of the competition is \"Chapman CS530 Predicting Red Wine Quality\". Copy the rules of the competition to the following block."
   ]
  },
  {
   "cell_type": "code",
   "execution_count": 13,
   "metadata": {},
   "outputs": [
    {
     "data": {
      "text/plain": [
       "'\\n1. Download the training (train.csv) and testing set (test.csv) from the Data tab. We will talk much more about training and test sets in the course. Generally speaking, for the training set you have the information (the matrix X) and the labels (the vector y). But you do not have the labels for the test set. Here you have the wine rating for the training set but not the the test set. Therefore, your task is to fit a regression model based on the training set (where you are given the quality of the wine for each entry) and then predict as accuracy as possible on the quality of wines in the testing set, where you do not have the quality of the wine.\\n\\n2. This competition is designed for the \"Regression, Resampling and Regularization Module\" and it is part of the homework assignments. Submission closes on Sunday at 11:59pm.\\n\\n3. You are expected to submit your solutions to Kaggle and also your code on Canvas to get full credits.'"
      ]
     },
     "execution_count": 13,
     "metadata": {},
     "output_type": "execute_result"
    }
   ],
   "source": [
    "### What is the rule of the competition?\n",
    "'''\n",
    "1. Download the training (train.csv) and testing set (test.csv) from the Data tab. We will talk much more about training and test sets in the course. Generally speaking, for the training set you have the information (the matrix X) and the labels (the vector y). But you do not have the labels for the test set. Here you have the wine rating for the training set but not the the test set. Therefore, your task is to fit a regression model based on the training set (where you are given the quality of the wine for each entry) and then predict as accuracy as possible on the quality of wines in the testing set, where you do not have the quality of the wine.\n",
    "\n",
    "2. This competition is designed for the \"Regression, Resampling and Regularization Module\" and it is part of the homework assignments. Submission closes on Sunday at 11:59pm.\n",
    "\n",
    "3. You are expected to submit your solutions to Kaggle and also your code on Canvas to get full credits.'''"
   ]
  },
  {
   "cell_type": "markdown",
   "metadata": {},
   "source": [
    "c) Download the necessary datasets, read the data into a pandas dataframe and run any necessary data preprocessing techniques to allow further analysis."
   ]
  },
  {
   "cell_type": "code",
   "execution_count": 33,
   "metadata": {},
   "outputs": [
    {
     "data": {
      "text/html": [
       "<div>\n",
       "<style scoped>\n",
       "    .dataframe tbody tr th:only-of-type {\n",
       "        vertical-align: middle;\n",
       "    }\n",
       "\n",
       "    .dataframe tbody tr th {\n",
       "        vertical-align: top;\n",
       "    }\n",
       "\n",
       "    .dataframe thead th {\n",
       "        text-align: right;\n",
       "    }\n",
       "</style>\n",
       "<table border=\"1\" class=\"dataframe\">\n",
       "  <thead>\n",
       "    <tr style=\"text-align: right;\">\n",
       "      <th></th>\n",
       "      <th>Id</th>\n",
       "      <th>fixed acidity</th>\n",
       "      <th>volatile acidity</th>\n",
       "      <th>citric acid</th>\n",
       "      <th>residual sugar</th>\n",
       "      <th>chlorides</th>\n",
       "      <th>free sulfur dioxide</th>\n",
       "      <th>total sulfur dioxide</th>\n",
       "      <th>density</th>\n",
       "      <th>pH</th>\n",
       "      <th>sulphates</th>\n",
       "      <th>alcohol</th>\n",
       "    </tr>\n",
       "  </thead>\n",
       "  <tbody>\n",
       "    <tr>\n",
       "      <td>0</td>\n",
       "      <td>0</td>\n",
       "      <td>9.6</td>\n",
       "      <td>0.54</td>\n",
       "      <td>0.42</td>\n",
       "      <td>2.4</td>\n",
       "      <td>0.081</td>\n",
       "      <td>25.0</td>\n",
       "      <td>52.0</td>\n",
       "      <td>0.99700</td>\n",
       "      <td>3.20</td>\n",
       "      <td>0.71</td>\n",
       "      <td>11.4</td>\n",
       "    </tr>\n",
       "    <tr>\n",
       "      <td>1</td>\n",
       "      <td>1</td>\n",
       "      <td>7.6</td>\n",
       "      <td>0.55</td>\n",
       "      <td>0.21</td>\n",
       "      <td>2.2</td>\n",
       "      <td>0.071</td>\n",
       "      <td>7.0</td>\n",
       "      <td>28.0</td>\n",
       "      <td>0.99640</td>\n",
       "      <td>3.28</td>\n",
       "      <td>0.55</td>\n",
       "      <td>9.7</td>\n",
       "    </tr>\n",
       "    <tr>\n",
       "      <td>2</td>\n",
       "      <td>2</td>\n",
       "      <td>8.6</td>\n",
       "      <td>0.47</td>\n",
       "      <td>0.30</td>\n",
       "      <td>3.0</td>\n",
       "      <td>0.076</td>\n",
       "      <td>30.0</td>\n",
       "      <td>135.0</td>\n",
       "      <td>0.99760</td>\n",
       "      <td>3.30</td>\n",
       "      <td>0.53</td>\n",
       "      <td>9.4</td>\n",
       "    </tr>\n",
       "    <tr>\n",
       "      <td>3</td>\n",
       "      <td>3</td>\n",
       "      <td>10.0</td>\n",
       "      <td>0.49</td>\n",
       "      <td>0.20</td>\n",
       "      <td>11.0</td>\n",
       "      <td>0.071</td>\n",
       "      <td>13.0</td>\n",
       "      <td>50.0</td>\n",
       "      <td>1.00150</td>\n",
       "      <td>3.16</td>\n",
       "      <td>0.69</td>\n",
       "      <td>9.2</td>\n",
       "    </tr>\n",
       "    <tr>\n",
       "      <td>4</td>\n",
       "      <td>4</td>\n",
       "      <td>5.8</td>\n",
       "      <td>1.01</td>\n",
       "      <td>0.66</td>\n",
       "      <td>2.0</td>\n",
       "      <td>0.039</td>\n",
       "      <td>15.0</td>\n",
       "      <td>88.0</td>\n",
       "      <td>0.99357</td>\n",
       "      <td>3.66</td>\n",
       "      <td>0.60</td>\n",
       "      <td>11.5</td>\n",
       "    </tr>\n",
       "  </tbody>\n",
       "</table>\n",
       "</div>"
      ],
      "text/plain": [
       "   Id  fixed acidity  volatile acidity  citric acid  residual sugar  \\\n",
       "0   0            9.6              0.54         0.42             2.4   \n",
       "1   1            7.6              0.55         0.21             2.2   \n",
       "2   2            8.6              0.47         0.30             3.0   \n",
       "3   3           10.0              0.49         0.20            11.0   \n",
       "4   4            5.8              1.01         0.66             2.0   \n",
       "\n",
       "   chlorides  free sulfur dioxide  total sulfur dioxide  density    pH  \\\n",
       "0      0.081                 25.0                  52.0  0.99700  3.20   \n",
       "1      0.071                  7.0                  28.0  0.99640  3.28   \n",
       "2      0.076                 30.0                 135.0  0.99760  3.30   \n",
       "3      0.071                 13.0                  50.0  1.00150  3.16   \n",
       "4      0.039                 15.0                  88.0  0.99357  3.66   \n",
       "\n",
       "   sulphates  alcohol  \n",
       "0       0.71     11.4  \n",
       "1       0.55      9.7  \n",
       "2       0.53      9.4  \n",
       "3       0.69      9.2  \n",
       "4       0.60     11.5  "
      ]
     },
     "execution_count": 33,
     "metadata": {},
     "output_type": "execute_result"
    }
   ],
   "source": [
    "import pandas as pd\n",
    "\n",
    "### YOUR CODE for c) GOES HERE\n",
    "\n",
    "train = pd.read_csv('train.csv') # Read in files into a dataframe\n",
    "train.head()\n",
    "\n",
    "test = pd.read_csv('test.csv')\n",
    "test.head()\n",
    "  \n",
    "    \n",
    "# I did some more preprocessing in the next part, taking out any empty cells \n"
   ]
  },
  {
   "cell_type": "markdown",
   "metadata": {},
   "source": [
    "d) Choose one variable that you think might have the biggest effects on the quality of wine. Fit a single linear regression model to that variable using Statsmodel. Plot a scatter plot of the dependent variable over the independent variable and also plot the fitted line on the same plot to see how well your model fits. Also add the R<sup>2</sup> score as the title of the plot."
   ]
  },
  {
   "cell_type": "code",
   "execution_count": 49,
   "metadata": {
    "scrolled": false
   },
   "outputs": [
    {
     "name": "stderr",
     "output_type": "stream",
     "text": [
      "No handles with labels found to put in legend.\n"
     ]
    },
    {
     "name": "stdout",
     "output_type": "stream",
     "text": [
      "                                 OLS Regression Results                                \n",
      "=======================================================================================\n",
      "Dep. Variable:                      y   R-squared (uncentered):                   0.944\n",
      "Model:                            OLS   Adj. R-squared (uncentered):              0.944\n",
      "Method:                 Least Squares   F-statistic:                          1.883e+04\n",
      "Date:                Sun, 09 Feb 2020   Prob (F-statistic):                        0.00\n",
      "Time:                        20:15:04   Log-Likelihood:                         -1906.9\n",
      "No. Observations:                1112   AIC:                                      3816.\n",
      "Df Residuals:                    1111   BIC:                                      3821.\n",
      "Df Model:                           1                                                  \n",
      "Covariance Type:            nonrobust                                                  \n",
      "==============================================================================\n",
      "                 coef    std err          t      P>|t|      [0.025      0.975]\n",
      "------------------------------------------------------------------------------\n",
      "x1             8.2154      0.060    137.208      0.000       8.098       8.333\n",
      "==============================================================================\n",
      "Omnibus:                      449.390   Durbin-Watson:                   1.942\n",
      "Prob(Omnibus):                  0.000   Jarque-Bera (JB):             2500.599\n",
      "Skew:                          -1.788   Prob(JB):                         0.00\n",
      "Kurtosis:                       9.418   Cond. No.                         1.00\n",
      "==============================================================================\n",
      "\n",
      "Warnings:\n",
      "[1] Standard Errors assume that the covariance matrix of the errors is correctly specified.\n",
      "0.9442748018327969\n"
     ]
    },
    {
     "data": {
      "text/plain": [
       "array([ 5.83295754,  4.51848823,  4.35417957,  5.66864887,  4.92925989,\n",
       "        6.57234652,  4.35417957,  3.61479059,  7.06527251,  4.92925989,\n",
       "        5.50434021,  5.75080321,  5.34003155,  5.42218588,  6.90096385,\n",
       "        4.35417957,  5.42218588,  4.4363339 ,  4.76495123,  4.92925989,\n",
       "        5.75080321,  4.92925989,  4.4363339 ,  5.83295754,  6.32588353,\n",
       "        4.76495123,  4.02556224,  4.84710556,  4.51848823,  4.6827969 ,\n",
       "        4.76495123,  7.3117355 ,  5.75080321,  3.94340791,  4.02556224,\n",
       "        4.92925989,  8.54405048,  5.01141422,  4.18987091,  6.40803786,\n",
       "        6.73665518,  3.61479059,  4.35417957,  4.27202524,  5.91511187,\n",
       "        5.34003155,  3.86125358,  4.6827969 ,  7.14742684,  4.6827969 ,\n",
       "        3.94340791,  5.42218588,  3.20401893,  5.91511187,  5.01141422,\n",
       "        3.94340791,  5.34003155,  5.25787722,  4.76495123,  5.25787722,\n",
       "        3.53263625,  5.58649454,  4.60064256,  4.6827969 ,  5.17572288,\n",
       "        4.27202524,  4.60064256,  5.83295754,  6.49019219,  6.32588353,\n",
       "        5.58649454,  4.92925989,  7.96897016,  5.09356855,  4.84710556,\n",
       "        4.60064256,  8.79051347,  5.09356855,  5.09356855,  4.4363339 ,\n",
       "        4.4363339 ,  5.9972662 ,  5.25787722,  6.73665518,  4.4363339 ,\n",
       "        7.22958117,  4.76495123,  6.16157486,  6.24372919,  5.9972662 ,\n",
       "        6.57234652,  5.25787722,  4.27202524,  6.32588353,  5.09356855,\n",
       "        5.75080321,  3.77909925,  6.32588353,  5.9972662 ,  4.84710556,\n",
       "        4.02556224,  5.75080321,  3.86125358,  5.01141422,  5.09356855,\n",
       "        3.69694492,  4.4363339 ,  4.4363339 ,  3.69694492,  4.35417957,\n",
       "        7.39388984,  5.83295754,  4.02556224,  4.76495123,  4.60064256,\n",
       "        7.22958117, 16.02009464,  9.61205679,  4.92925989,  5.75080321,\n",
       "        6.07942053,  3.86125358,  5.01141422,  5.17572288, 16.26655764,\n",
       "        5.34003155,  4.92925989,  6.65450085,  5.91511187,  5.01141422,\n",
       "        4.35417957,  6.98311818,  4.10771658,  4.92925989,  5.9972662 ,\n",
       "        4.4363339 ,  5.75080321,  4.35417957,  6.16157486,  6.49019219,\n",
       "        5.50434021,  4.60064256,  6.49019219,  4.4363339 ,  5.34003155,\n",
       "        4.4363339 ,  4.27202524,  5.01141422,  4.4363339 ,  4.51848823,\n",
       "        5.09356855,  4.4363339 ,  5.25787722,  5.34003155,  7.96897016,\n",
       "        6.40803786,  4.84710556,  4.84710556,  4.4363339 ,  7.64035283,\n",
       "        4.6827969 ,  4.60064256,  5.9972662 ,  4.27202524,  7.06527251,\n",
       "        4.84710556,  3.94340791,  4.84710556,  6.49019219,  6.98311818,\n",
       "        5.01141422,  4.27202524,  4.84710556,  6.73665518,  5.83295754,\n",
       "        4.18987091,  6.57234652,  5.58649454,  5.17572288,  5.75080321,\n",
       "        4.27202524,  4.76495123,  6.32588353,  4.6827969 ,  4.6827969 ,\n",
       "        8.05112449,  6.16157486,  4.92925989,  4.76495123,  5.50434021,\n",
       "        4.60064256,  5.09356855,  4.6827969 ,  5.01141422,  9.28343946,\n",
       "        6.07942053,  5.58649454,  5.34003155,  4.51848823,  3.45048192,\n",
       "        4.76495123,  6.90096385,  4.51848823,  4.10771658,  4.51848823,\n",
       "        4.4363339 ,  5.34003155,  4.92925989,  5.25787722,  7.39388984,\n",
       "        4.60064256,  3.94340791,  5.17572288,  4.76495123,  4.92925989,\n",
       "        4.02556224,  4.92925989,  6.73665518,  4.6827969 ,  5.50434021,\n",
       "        9.69421112,  5.75080321,  3.86125358,  4.60064256,  8.8726678 ,\n",
       "        3.77909925,  4.92925989,  6.07942053,  6.81880951,  5.17572288,\n",
       "        6.32588353,  4.51848823,  6.65450085,  6.57234652,  6.32588353,\n",
       "        8.62620481,  6.49019219,  5.34003155,  4.76495123,  5.75080321,\n",
       "        5.25787722,  4.18987091,  6.32588353,  6.24372919,  4.27202524,\n",
       "        4.6827969 ,  8.70835914,  5.50434021,  4.84710556,  5.34003155,\n",
       "        5.01141422,  5.09356855,  5.50434021,  4.76495123,  4.35417957,\n",
       "        5.58649454,  5.25787722,  5.83295754,  4.76495123,  4.35417957,\n",
       "        5.58649454,  3.03971027,  7.64035283,  4.92925989,  6.98311818,\n",
       "        6.24372919,  6.32588353,  5.66864887,  6.57234652,  4.84710556,\n",
       "        5.42218588,  4.76495123, 10.51575443,  5.9972662 ,  4.84710556,\n",
       "        4.4363339 ,  4.60064256,  4.35417957,  4.35417957,  4.92925989,\n",
       "        5.9972662 ,  4.60064256,  4.18987091,  4.27202524,  4.92925989,\n",
       "        4.76495123,  5.09356855,  3.53263625,  4.27202524,  4.92925989,\n",
       "        4.92925989,  6.81880951,  4.35417957,  5.25787722,  4.10771658,\n",
       "        3.28617326,  6.57234652,  4.76495123, 10.51575443,  5.9972662 ,\n",
       "        5.34003155,  3.86125358,  6.65450085,  4.84710556,  3.94340791,\n",
       "        5.25787722,  6.40803786,  5.09356855,  4.10771658,  7.06527251,\n",
       "        5.9972662 ,  6.49019219,  7.47604417,  4.27202524,  5.42218588,\n",
       "        5.91511187,  5.17572288,  4.4363339 ,  4.27202524,  5.9972662 ,\n",
       "        7.96897016,  4.92925989,  4.4363339 ,  5.50434021,  5.42218588,\n",
       "        7.3117355 ,  4.76495123,  5.01141422,  5.17572288,  3.94340791,\n",
       "        4.76495123,  5.34003155,  6.49019219,  3.94340791,  4.4363339 ,\n",
       "        5.25787722,  5.42218588,  4.76495123,  4.6827969 ,  4.18987091,\n",
       "        4.35417957,  4.4363339 ,  5.91511187,  5.25787722,  4.92925989,\n",
       "        5.42218588,  5.75080321,  9.03697647,  5.83295754,  6.90096385,\n",
       "        4.60064256,  4.18987091,  6.90096385,  6.57234652,  6.73665518,\n",
       "        5.91511187,  4.76495123,  4.02556224,  6.73665518,  4.02556224,\n",
       "        7.22958117,  4.84710556,  4.76495123,  6.65450085,  5.25787722,\n",
       "        4.51848823,  5.17572288,  3.28617326,  5.42218588,  5.75080321,\n",
       "        5.25787722,  4.76495123,  3.94340791,  5.9972662 ,  5.09356855,\n",
       "        4.02556224,  4.84710556,  4.18987091,  8.62620481,  5.09356855,\n",
       "        4.4363339 ,  3.69694492,  6.24372919,  4.60064256,  5.25787722,\n",
       "        4.35417957,  5.50434021,  8.70835914,  3.86125358,  6.90096385,\n",
       "        4.60064256,  3.94340791,  6.57234652,  3.94340791,  4.10771658,\n",
       "        4.6827969 ,  4.6827969 ,  6.65450085,  8.13327882,  3.94340791,\n",
       "        4.6827969 ,  7.14742684,  5.09356855,  5.17572288,  4.60064256,\n",
       "        7.06527251,  8.8726678 ,  4.18987091,  7.96897016,  4.84710556,\n",
       "        3.94340791,  4.27202524,  5.42218588,  6.16157486,  4.10771658,\n",
       "        3.61479059,  6.98311818,  7.22958117,  4.51848823,  7.14742684,\n",
       "        8.21543315,  6.81880951,  5.42218588,  6.16157486,  5.34003155,\n",
       "        4.4363339 ,  7.06527251,  7.06527251,  6.90096385,  5.25787722,\n",
       "        9.61205679,  5.25787722,  4.10771658,  4.51848823,  4.92925989,\n",
       "        5.09356855,  6.98311818,  6.73665518,  6.16157486,  4.4363339 ,\n",
       "        4.6827969 ,  3.69694492,  5.34003155,  6.32588353,  5.91511187,\n",
       "        3.77909925,  5.75080321,  6.32588353,  4.4363339 ,  5.75080321,\n",
       "        6.07942053,  4.92925989,  4.02556224,  4.51848823,  4.27202524,\n",
       "        3.94340791,  3.53263625,  4.27202524, 13.06253871,  5.09356855,\n",
       "        4.51848823,  6.32588353,  4.92925989,  4.02556224,  8.13327882,\n",
       "        8.46189614,  4.27202524,  5.17572288,  3.69694492,  5.17572288,\n",
       "        4.60064256,  5.17572288,  4.76495123,  5.50434021,  6.90096385,\n",
       "        4.4363339 ,  4.76495123,  4.92925989,  4.92925989,  5.9972662 ])"
      ]
     },
     "execution_count": 49,
     "metadata": {},
     "output_type": "execute_result"
    },
    {
     "data": {
      "image/png": "[encoded data removed]",
      "text/plain": [
       "<Figure size 432x288 with 1 Axes>"
      ]
     },
     "metadata": {
      "needs_background": "light"
     },
     "output_type": "display_data"
    }
   ],
   "source": [
    "\n",
    "\n",
    "### YOUR CODE for d) GOES HERE\n",
    "\n",
    "dep = train.loc[:,['quality']]\n",
    "indep = train.loc[:,['sulphates']]\n",
    "\n",
    "indepTest = test.loc[:,['sulphates']]\n",
    "\n",
    "def qualityTest(x, y, showGraph, test):\n",
    "    x = np.array(x)\n",
    "    y = np.array(y)\n",
    "    \n",
    "  #  x1, y1 = removeOutliers(x, y)\n",
    "    for row in y:\n",
    "        try:\n",
    "            x1, y1 = removeOutliers(x, y)\n",
    "        except: \n",
    "            print(\"empty\")\n",
    "\n",
    "    model = sm.OLS(y1, x1).fit()\n",
    "\n",
    "\n",
    "    if showGraph == True:\n",
    "        statsModel(x1, y1)\n",
    "        plt.title(model.rsquared)\n",
    "\n",
    "\n",
    "        \n",
    "\n",
    "    pred = np.array(model.predict(test))\n",
    "\n",
    "    return pred\n",
    "\n",
    "\n",
    "    \n",
    "qualityTest(indep, dep, True, indepTest)\n",
    "\n",
    "\n"
   ]
  },
  {
   "cell_type": "markdown",
   "metadata": {},
   "source": [
    "e) Make predictions on the testing set using your model created in d), create a submission and submit it to kaggle. "
   ]
  },
  {
   "cell_type": "code",
   "execution_count": 50,
   "metadata": {},
   "outputs": [
    {
     "data": {
      "text/html": [
       "<div>\n",
       "<style scoped>\n",
       "    .dataframe tbody tr th:only-of-type {\n",
       "        vertical-align: middle;\n",
       "    }\n",
       "\n",
       "    .dataframe tbody tr th {\n",
       "        vertical-align: top;\n",
       "    }\n",
       "\n",
       "    .dataframe thead th {\n",
       "        text-align: right;\n",
       "    }\n",
       "</style>\n",
       "<table border=\"1\" class=\"dataframe\">\n",
       "  <thead>\n",
       "    <tr style=\"text-align: right;\">\n",
       "      <th></th>\n",
       "      <th>Id</th>\n",
       "      <th>Quality</th>\n",
       "    </tr>\n",
       "  </thead>\n",
       "  <tbody>\n",
       "    <tr>\n",
       "      <td>0</td>\n",
       "      <td>0</td>\n",
       "      <td>5.832958</td>\n",
       "    </tr>\n",
       "    <tr>\n",
       "      <td>1</td>\n",
       "      <td>1</td>\n",
       "      <td>4.518488</td>\n",
       "    </tr>\n",
       "    <tr>\n",
       "      <td>2</td>\n",
       "      <td>2</td>\n",
       "      <td>4.354180</td>\n",
       "    </tr>\n",
       "    <tr>\n",
       "      <td>3</td>\n",
       "      <td>3</td>\n",
       "      <td>5.668649</td>\n",
       "    </tr>\n",
       "    <tr>\n",
       "      <td>4</td>\n",
       "      <td>4</td>\n",
       "      <td>4.929260</td>\n",
       "    </tr>\n",
       "    <tr>\n",
       "      <td>...</td>\n",
       "      <td>...</td>\n",
       "      <td>...</td>\n",
       "    </tr>\n",
       "    <tr>\n",
       "      <td>475</td>\n",
       "      <td>475</td>\n",
       "      <td>4.436334</td>\n",
       "    </tr>\n",
       "    <tr>\n",
       "      <td>476</td>\n",
       "      <td>476</td>\n",
       "      <td>4.764951</td>\n",
       "    </tr>\n",
       "    <tr>\n",
       "      <td>477</td>\n",
       "      <td>477</td>\n",
       "      <td>4.929260</td>\n",
       "    </tr>\n",
       "    <tr>\n",
       "      <td>478</td>\n",
       "      <td>478</td>\n",
       "      <td>4.929260</td>\n",
       "    </tr>\n",
       "    <tr>\n",
       "      <td>479</td>\n",
       "      <td>479</td>\n",
       "      <td>5.997266</td>\n",
       "    </tr>\n",
       "  </tbody>\n",
       "</table>\n",
       "<p>480 rows × 2 columns</p>\n",
       "</div>"
      ],
      "text/plain": [
       "      Id   Quality\n",
       "0      0  5.832958\n",
       "1      1  4.518488\n",
       "2      2  4.354180\n",
       "3      3  5.668649\n",
       "4      4  4.929260\n",
       "..   ...       ...\n",
       "475  475  4.436334\n",
       "476  476  4.764951\n",
       "477  477  4.929260\n",
       "478  478  4.929260\n",
       "479  479  5.997266\n",
       "\n",
       "[480 rows x 2 columns]"
      ]
     },
     "execution_count": 50,
     "metadata": {},
     "output_type": "execute_result"
    }
   ],
   "source": [
    "### YOUR CODE for e) GOES HERE\n",
    "test = pd.read_csv('test.csv')\n",
    "test.head()\n",
    "\n",
    "predictQuality = qualityTest(indep, dep, False, indepTest)\n",
    "test.insert(1, \"Quality\", predictQuality)\n",
    "\n",
    "\n",
    "test.loc[:,['Id', 'Quality']]\n",
    "\n",
    "\n",
    "\n",
    "\n",
    "\n",
    "\n",
    "\n",
    "\n",
    "\n"
   ]
  },
  {
   "cell_type": "code",
   "execution_count": 45,
   "metadata": {},
   "outputs": [],
   "source": [
    "### Report the score of your first submission on Kaggle here\n",
    "\n",
    "#36.11378"
   ]
  },
  {
   "cell_type": "markdown",
   "metadata": {},
   "source": [
    "f) Try to fit the regression model using a different variable. Create another submission and submit it to kaggle. Discuss why that variable was better, worse, or roughly the same as the previous variable that you fit."
   ]
  },
  {
   "cell_type": "code",
   "execution_count": 47,
   "metadata": {},
   "outputs": [
    {
     "name": "stderr",
     "output_type": "stream",
     "text": [
      "No handles with labels found to put in legend.\n"
     ]
    },
    {
     "name": "stdout",
     "output_type": "stream",
     "text": [
      "                                 OLS Regression Results                                \n",
      "=======================================================================================\n",
      "Dep. Variable:                      y   R-squared (uncentered):                   0.980\n",
      "Model:                            OLS   Adj. R-squared (uncentered):              0.980\n",
      "Method:                 Least Squares   F-statistic:                          5.397e+04\n",
      "Date:                Sun, 09 Feb 2020   Prob (F-statistic):                        0.00\n",
      "Time:                        20:01:52   Log-Likelihood:                         -1345.1\n",
      "No. Observations:                1114   AIC:                                      2692.\n",
      "Df Residuals:                    1113   BIC:                                      2697.\n",
      "Df Model:                           1                                                  \n",
      "Covariance Type:            nonrobust                                                  \n",
      "==============================================================================\n",
      "                 coef    std err          t      P>|t|      [0.025      0.975]\n",
      "------------------------------------------------------------------------------\n",
      "x1             5.6543      0.024    232.306      0.000       5.607       5.702\n",
      "==============================================================================\n",
      "Omnibus:                       14.237   Durbin-Watson:                   1.896\n",
      "Prob(Omnibus):                  0.001   Jarque-Bera (JB):               14.593\n",
      "Skew:                           0.253   Prob(JB):                     0.000678\n",
      "Kurtosis:                       3.240   Cond. No.                         1.00\n",
      "==============================================================================\n",
      "\n",
      "Warnings:\n",
      "[1] Standard Errors assume that the covariance matrix of the errors is correctly specified.\n",
      "0.9797926787987324\n"
     ]
    },
    {
     "data": {
      "text/plain": [
       "array([5.63736398, 5.63397139, 5.64075658, 5.66280845, 5.61796964,\n",
       "       5.65234795, 5.64205707, 5.61706495, 5.63906028, 5.6220973 ,\n",
       "       5.64528004, 5.64358374, 5.63849485, 5.64471461, 5.62944792,\n",
       "       5.62605533, 5.66902821, 5.63001336, 5.64528004, 5.63600694,\n",
       "       5.64132201, 5.63990843, 5.64075658, 5.65432696, 5.61904396,\n",
       "       5.62831706, 5.63397139, 5.63623312, 5.63001336, 5.63029607,\n",
       "       5.62888249, 5.64414918, 5.62820397, 5.62944792, 5.64612819,\n",
       "       5.62865632, 5.63566768, 5.64019115, 5.63351904, 5.62435903,\n",
       "       5.64641091, 5.5981795 , 5.62922175, 5.63544151, 5.63397139,\n",
       "       5.64528004, 5.63125731, 5.6531961 , 5.63872102, 5.65263067,\n",
       "       5.61927014, 5.63674201, 5.63097459, 5.64539313, 5.65093437,\n",
       "       5.63170966, 5.63103114, 5.63510225, 5.62153187, 5.63391484,\n",
       "       5.62571607, 5.62978718, 5.63566768, 5.64584547, 5.62820397,\n",
       "       5.63544151, 5.63679855, 5.6481072 , 5.65885043, 5.63267089,\n",
       "       5.67066797, 5.64301831, 5.65206523, 5.64245288, 5.63284052,\n",
       "       5.63453682, 5.66224302, 5.6292783 , 5.64471461, 5.62492446,\n",
       "       5.62820397, 5.63464991, 5.64188744, 5.6514998 , 5.64471461,\n",
       "       5.62763854, 5.62390668, 5.63679855, 5.63510225, 5.63623312,\n",
       "       5.62696002, 5.62944792, 5.63651583, 5.6351588 , 5.64075658,\n",
       "       5.63962571, 5.6237936 , 5.65093437, 5.62435903, 5.63334941,\n",
       "       5.62769508, 5.63357558, 5.63702472, 5.63679855, 5.6292783 ,\n",
       "       5.63351904, 5.64403609, 5.62933484, 5.62933484, 5.64188744,\n",
       "       5.62605533, 5.64154818, 5.63148348, 5.6359504 , 5.64641091,\n",
       "       5.60807457, 5.63849485, 5.64946424, 5.63397139, 5.6283736 ,\n",
       "       5.62888249, 5.63956917, 5.64188744, 5.63623312, 5.63849485,\n",
       "       5.63640275, 5.63990843, 5.64245288, 5.64539313, 5.63532842,\n",
       "       5.63408447, 5.62707311, 5.64641091, 5.63481954, 5.64120893,\n",
       "       5.63114422, 5.64528004, 5.64595856, 5.63023953, 5.63250126,\n",
       "       5.64528004, 5.65771956, 5.63679855, 5.63057879, 5.63312324,\n",
       "       5.62820397, 5.62990027, 5.639343  , 5.62147532, 5.62639459,\n",
       "       5.63103114, 5.62181458, 5.65093437, 5.63414102, 5.63357558,\n",
       "       5.63623312, 5.6372509 , 5.62724274, 5.6531961 , 5.64641091,\n",
       "       5.63623312, 5.62537681, 5.62435903, 5.64301831, 5.6325578 ,\n",
       "       5.63939954, 5.64301831, 5.63679855, 5.63792942, 5.6279778 ,\n",
       "       5.62843015, 5.64301831, 5.64019115, 5.63708127, 5.64556276,\n",
       "       5.62441557, 5.62515064, 5.65500548, 5.65093437, 5.63849485,\n",
       "       5.62266273, 5.63238817, 5.65093437, 5.6363462 , 5.65885043,\n",
       "       5.65658869, 5.62526372, 5.65093437, 5.63883411, 5.64754177,\n",
       "       5.65771956, 5.64002152, 5.63990843, 5.64075658, 5.63284052,\n",
       "       5.62136224, 5.63453682, 5.63057879, 5.63962571, 5.6355546 ,\n",
       "       5.63323632, 5.65460968, 5.63849485, 5.63651583, 5.6355546 ,\n",
       "       5.61904396, 5.63894719, 5.62492446, 5.62899558, 5.6422267 ,\n",
       "       5.61836544, 5.64245288, 5.61972248, 5.63193583, 5.62051409,\n",
       "       5.64754177, 5.62775163, 5.62254965, 5.63979534, 5.64528004,\n",
       "       5.65432696, 5.63566768, 5.6237936 , 5.63651583, 5.63679855,\n",
       "       5.61734767, 5.62973064, 5.63742053, 5.64188744, 5.63334941,\n",
       "       5.67519143, 5.64799412, 5.64635436, 5.63623312, 5.62187113,\n",
       "       5.64075658, 5.62978718, 5.64754177, 5.63227509, 5.63849485,\n",
       "       5.63125731, 5.63221855, 5.63759016, 5.63962571, 5.64019115,\n",
       "       5.63792942, 5.64245288, 5.64414918, 5.62486792, 5.63759016,\n",
       "       5.63849485, 5.64245288, 5.6241894 , 5.63114422, 5.63238817,\n",
       "       5.63481954, 5.63363213, 5.62232347, 5.62684693, 5.64471461,\n",
       "       5.64641091, 5.61395507, 5.63170966, 5.6296741 , 5.62266273,\n",
       "       5.64154818, 5.66450475, 5.6338583 , 5.65036893, 5.60456889,\n",
       "       5.62944792, 5.64205707, 5.63623312, 5.6279778 , 5.63340595,\n",
       "       5.63855139, 5.64188744, 5.61955285, 5.64607165, 5.62662076,\n",
       "       5.63849485, 5.64754177, 5.64301831, 5.63080496, 5.61440742,\n",
       "       5.64397955, 5.63719435, 5.62746891, 5.63623312, 5.63012644,\n",
       "       5.62492446, 5.63691164, 5.63312324, 5.63838176, 5.61112791,\n",
       "       5.61146717, 5.64075658, 5.6325578 , 5.63962571, 5.63996497,\n",
       "       5.64414918, 5.62786471, 5.63906028, 5.63227509, 5.64200053,\n",
       "       5.63363213, 5.61994866, 5.63340595, 5.6414351 , 5.64482769,\n",
       "       5.63340595, 5.62718619, 5.64414918, 5.62707311, 5.62611187,\n",
       "       5.63623312, 5.64132201, 5.63040916, 5.64347066, 5.63996497,\n",
       "       5.64358374, 5.63012644, 5.62605533, 5.63894719, 5.64641091,\n",
       "       5.65206523, 5.62718619, 5.64188744, 5.65093437, 5.62910867,\n",
       "       5.63849485, 5.63759016, 5.63510225, 5.63561114, 5.64007806,\n",
       "       5.63906028, 5.62752545, 5.61225877, 5.63979534, 5.62441557,\n",
       "       5.63742053, 5.63668546, 5.62848669, 5.6531961 , 5.63284052,\n",
       "       5.64301831, 5.63849485, 5.63363213, 5.63906028, 5.62254965,\n",
       "       5.63012644, 5.62893904, 5.63510225, 5.66224302, 5.60230716,\n",
       "       5.64081312, 5.62831706, 5.64075658, 5.64697634, 5.62973064,\n",
       "       5.61644297, 5.63114422, 5.63261435, 5.63906028, 5.62944792,\n",
       "       5.63696818, 5.63679855, 5.61146717, 5.62882595, 5.62096643,\n",
       "       5.62871286, 5.62153187, 5.63606349, 5.64612819, 5.62085335,\n",
       "       5.6254899 , 5.63227509, 5.62922175, 5.64641091, 5.64002152,\n",
       "       5.61678223, 5.62933484, 5.65545783, 5.63391484, 5.63131385,\n",
       "       5.63996497, 5.63736398, 5.64132201, 5.64075658, 5.63159657,\n",
       "       5.65545783, 5.63238817, 5.62696002, 5.61022321, 5.63012644,\n",
       "       5.61757384, 5.62492446, 5.63165311, 5.64245288, 5.6325578 ,\n",
       "       5.63227509, 5.64867264, 5.62594224, 5.639343  , 5.62990027,\n",
       "       5.62910867, 5.63849485, 5.64301831, 5.63357558, 5.6531961 ,\n",
       "       5.63284052, 5.64188744, 5.6334625 , 5.6338583 , 5.63679855,\n",
       "       5.62888249, 5.62707311, 5.64301831, 5.61237186, 5.61135408,\n",
       "       5.65885043, 5.63578077, 5.64301831, 5.65093437, 5.62905212,\n",
       "       5.63849485, 5.63086151, 5.64126547, 5.62696002, 5.64669362,\n",
       "       5.63301015, 5.64669362, 5.63487608, 5.63623312, 5.6410393 ,\n",
       "       5.63238817, 5.62560298, 5.64641091, 5.66801043, 5.63736398,\n",
       "       5.65263067, 5.6279778 , 5.64754177, 5.63849485, 5.62577261,\n",
       "       5.64075658, 5.6179131 , 5.62288891, 5.63170966, 5.62882595,\n",
       "       5.62741237, 5.61921359, 5.62130569, 5.61994866, 5.63295361,\n",
       "       5.62616842, 5.64969042, 5.61649952, 5.63397139, 5.63589386,\n",
       "       5.63623312, 5.62775163, 5.64188744, 5.64754177, 5.64754177,\n",
       "       5.64019115, 5.63849485, 5.61915705, 5.62311508, 5.6187047 ,\n",
       "       5.62469829, 5.63114422, 5.64822029, 5.63849485, 5.62696002,\n",
       "       5.63872102, 5.62701656, 5.6296741 , 5.64075658, 5.64301831])"
      ]
     },
     "execution_count": 47,
     "metadata": {},
     "output_type": "execute_result"
    },
    {
     "data": {
      "image/png": "[encoded data removed]",
      "text/plain": [
       "<Figure size 432x288 with 1 Axes>"
      ]
     },
     "metadata": {
      "needs_background": "light"
     },
     "output_type": "display_data"
    }
   ],
   "source": [
    "### YOUR CODE for f) GOES HERE\n",
    "\n",
    "dep = train.loc[:,['quality']]\n",
    "indep = train.loc[:,['density']]\n",
    "\n",
    "indepTest = test.loc[:,['density']]\n",
    "    \n",
    "qualityTest(indep, dep, True, indepTest)\n",
    "\n",
    "### DISCUSSION\n",
    "### this variable was slightly better as it had a higheer R^2 value. .98 compared to .944, \n",
    "### but overall, they are very close, and it will probably depend on the data. \n",
    "### Also, sulphates did not havee any empty cells in the dataset, but density did.\n",
    "### It was also interesting to see how the different dependencies helped and what they were capable of.\n",
    "\n"
   ]
  },
  {
   "cell_type": "code",
   "execution_count": null,
   "metadata": {},
   "outputs": [],
   "source": [
    "### Report the score of your second submission on Kaggle here\n",
    "34.27274"
   ]
  },
  {
   "cell_type": "code",
   "execution_count": null,
   "metadata": {},
   "outputs": [],
   "source": [
    "### Discussion Goes Here\n",
    "# I thought that this assignment was definitely challenging. \n",
    "# It required a lot of expirimenting and trial and error before figuring it out. \n",
    "# However, the more I worked through it, the more I started to get the hang of it and the easier it became to understand.\n",
    "# I am still a little unclear about how the R2 is reeflected in the linear regression line, as some of them don't seem to match up completely.\n",
    "# But it does seem as if the R2 is pretty reflective of the scores after submitting on Kaggle."
   ]
  },
  {
   "cell_type": "code",
   "execution_count": null,
   "metadata": {},
   "outputs": [],
   "source": []
  }
 ],
 "metadata": {
  "kernelspec": {
   "display_name": "Python 3",
   "language": "python",
   "name": "python3"
  },
  "language_info": {
   "codemirror_mode": {
    "name": "ipython",
    "version": 3
   },
   "file_extension": ".py",
   "mimetype": "text/x-python",
   "name": "python",
   "nbconvert_exporter": "python",
   "pygments_lexer": "ipython3",
   "version": "3.7.4"
  }
 },
 "nbformat": 4,
 "nbformat_minor": 2
}
