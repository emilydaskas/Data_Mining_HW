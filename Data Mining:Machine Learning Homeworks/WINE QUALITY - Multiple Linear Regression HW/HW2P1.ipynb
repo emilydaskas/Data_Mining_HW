{
 "cells": [
  {
   "cell_type": "markdown",
   "metadata": {},
   "source": [
    "# Homework 2 Part 1"
   ]
  },
  {
   "cell_type": "markdown",
   "metadata": {},
   "source": [
    "#### Q1 Multiple Linear Regression (4 points)\n",
    "a. Read in train.csv, remove all outliers and missing values (you can refer back to the solution of of HW1 posted on Canvas)."
   ]
  },
  {
   "cell_type": "code",
   "execution_count": 2,
   "metadata": {},
   "outputs": [],
   "source": [
    "## Your code goes here\n",
    "import pandas as pd\n",
    "import numpy as np\n",
    "from scipy import stats\n",
    "\n",
    "# Read in files into a dataframe\n",
    "df = pd.read_csv('train.csv') \n",
    "\n",
    "#function to clean df: gets rid of missing values and outliers\n",
    "def cleanDataFrame(dataFrame):\n",
    "    \n",
    "    #removes NaNs from the data frame\n",
    "    dataFrame = dataFrame.dropna()\n",
    "    \n",
    "    #loops through all columns and removes rows with outliers from the dataFrame\n",
    "    #from HW1 solution\n",
    "    for column in dataFrame:\n",
    "        mu = np.mean(dataFrame[column])\n",
    "        std = np.std(dataFrame[column])\n",
    "        normalized_data = (dataFrame[column] - mu)/std\n",
    "        indexes = normalized_data < 3\n",
    "        dataFrame = dataFrame.loc[indexes, :]\n",
    "    \n",
    "    return dataFrame\n",
    "\n",
    "df = cleanDataFrame(df)"
   ]
  },
  {
   "cell_type": "markdown",
   "metadata": {},
   "source": [
    "b. Fit a single linear regression model on variable 'citric acid' using the Statsmodels package, print the summary of the regression model."
   ]
  },
  {
   "cell_type": "code",
   "execution_count": 3,
   "metadata": {},
   "outputs": [
    {
     "name": "stdout",
     "output_type": "stream",
     "text": [
      "                            OLS Regression Results                            \n",
      "==============================================================================\n",
      "Dep. Variable:                quality   R-squared:                       0.048\n",
      "Model:                            OLS   Adj. R-squared:                  0.047\n",
      "Method:                 Least Squares   F-statistic:                     49.90\n",
      "Date:                Sun, 16 Feb 2020   Prob (F-statistic):           3.05e-12\n",
      "Time:                        13:58:19   Log-Likelihood:                -1162.4\n",
      "No. Observations:                 995   AIC:                             2329.\n",
      "Df Residuals:                     993   BIC:                             2339.\n",
      "Df Model:                           1                                         \n",
      "Covariance Type:            nonrobust                                         \n",
      "===============================================================================\n",
      "                  coef    std err          t      P>|t|      [0.025      0.975]\n",
      "-------------------------------------------------------------------------------\n",
      "const           5.4065      0.042    128.102      0.000       5.324       5.489\n",
      "citric acid     0.9123      0.129      7.064      0.000       0.659       1.166\n",
      "==============================================================================\n",
      "Omnibus:                        9.116   Durbin-Watson:                   1.946\n",
      "Prob(Omnibus):                  0.010   Jarque-Bera (JB):                9.073\n",
      "Skew:                           0.228   Prob(JB):                       0.0107\n",
      "Kurtosis:                       3.107   Cond. No.                         5.61\n",
      "==============================================================================\n",
      "\n",
      "Warnings:\n",
      "[1] Standard Errors assume that the covariance matrix of the errors is correctly specified.\n"
     ]
    },
    {
     "name": "stderr",
     "output_type": "stream",
     "text": [
      "/Users/emilydaskas/opt/anaconda3/lib/python3.7/site-packages/numpy/core/fromnumeric.py:2495: FutureWarning: Method .ptp is deprecated and will be removed in a future version. Use numpy.ptp instead.\n",
      "  return ptp(axis=axis, out=out, **kwargs)\n"
     ]
    },
    {
     "data": {
      "text/plain": [
       "const          5.406490\n",
       "citric acid    0.912251\n",
       "dtype: float64"
      ]
     },
     "execution_count": 3,
     "metadata": {},
     "output_type": "execute_result"
    }
   ],
   "source": [
    "## Your code goes here\n",
    "import statsmodels.api as sm\n",
    "from statsmodels.sandbox.regression.predstd import wls_prediction_std\n",
    "from matplotlib import pyplot as plt\n",
    "\n",
    "def statsModel(X, y):\n",
    "    xConstantAdded = sm.add_constant(X)\n",
    "    results = sm.OLS(y, xConstantAdded).fit()\n",
    "    print(results.summary())\n",
    "    return results.params\n",
    "    \n",
    "y = df.loc[:,'quality']\n",
    "X = df.loc[:,'citric acid']\n",
    "\n",
    "\n",
    "statsModel(X, y)"
   ]
  },
  {
   "cell_type": "markdown",
   "metadata": {},
   "source": [
    "c. Fit a single linear regression model on variable 'sulphates' using the Statsmodels package, print the summary of the regression model."
   ]
  },
  {
   "cell_type": "code",
   "execution_count": 3,
   "metadata": {
    "scrolled": true
   },
   "outputs": [
    {
     "name": "stdout",
     "output_type": "stream",
     "text": [
      "                            OLS Regression Results                            \n",
      "==============================================================================\n",
      "Dep. Variable:                quality   R-squared:                       0.134\n",
      "Model:                            OLS   Adj. R-squared:                  0.133\n",
      "Method:                 Least Squares   F-statistic:                     153.6\n",
      "Date:                Thu, 13 Feb 2020   Prob (F-statistic):           6.69e-33\n",
      "Time:                        17:40:19   Log-Likelihood:                -1115.2\n",
      "No. Observations:                 995   AIC:                             2234.\n",
      "Df Residuals:                     993   BIC:                             2244.\n",
      "Df Model:                           1                                         \n",
      "Covariance Type:            nonrobust                                         \n",
      "==============================================================================\n",
      "                 coef    std err          t      P>|t|      [0.025      0.975]\n",
      "------------------------------------------------------------------------------\n",
      "const          4.1601      0.122     33.998      0.000       3.920       4.400\n",
      "sulphates      2.3259      0.188     12.393      0.000       1.958       2.694\n",
      "==============================================================================\n",
      "Omnibus:                       10.017   Durbin-Watson:                   1.978\n",
      "Prob(Omnibus):                  0.007   Jarque-Bera (JB):               11.836\n",
      "Skew:                           0.153   Prob(JB):                      0.00269\n",
      "Kurtosis:                       3.438   Cond. No.                         11.3\n",
      "==============================================================================\n",
      "\n",
      "Warnings:\n",
      "[1] Standard Errors assume that the covariance matrix of the errors is correctly specified.\n"
     ]
    },
    {
     "data": {
      "text/plain": [
       "const        4.160110\n",
       "sulphates    2.325936\n",
       "dtype: float64"
      ]
     },
     "execution_count": 3,
     "metadata": {},
     "output_type": "execute_result"
    }
   ],
   "source": [
    "X = df.loc[:,'sulphates']\n",
    "\n",
    "statsModel(X, y)\n"
   ]
  },
  {
   "cell_type": "markdown",
   "metadata": {},
   "source": [
    "d. Fit a multiple linear regression model on 'citric acid' and 'sulphates' together using the Statsmodels package, print the summary of the regression model."
   ]
  },
  {
   "cell_type": "code",
   "execution_count": 4,
   "metadata": {},
   "outputs": [
    {
     "name": "stdout",
     "output_type": "stream",
     "text": [
      "                            OLS Regression Results                            \n",
      "==============================================================================\n",
      "Dep. Variable:                quality   R-squared:                       0.149\n",
      "Model:                            OLS   Adj. R-squared:                  0.147\n",
      "Method:                 Least Squares   F-statistic:                     86.85\n",
      "Date:                Thu, 13 Feb 2020   Prob (F-statistic):           1.75e-35\n",
      "Time:                        17:40:19   Log-Likelihood:                -1106.5\n",
      "No. Observations:                 995   AIC:                             2219.\n",
      "Df Residuals:                     992   BIC:                             2234.\n",
      "Df Model:                           2                                         \n",
      "Covariance Type:            nonrobust                                         \n",
      "===============================================================================\n",
      "                  coef    std err          t      P>|t|      [0.025      0.975]\n",
      "-------------------------------------------------------------------------------\n",
      "const           4.1619      0.121     34.295      0.000       3.924       4.400\n",
      "citric acid     0.5323      0.127      4.189      0.000       0.283       0.782\n",
      "sulphates       2.1026      0.194     10.860      0.000       1.723       2.483\n",
      "==============================================================================\n",
      "Omnibus:                        6.647   Durbin-Watson:                   1.989\n",
      "Prob(Omnibus):                  0.036   Jarque-Bera (JB):                7.207\n",
      "Skew:                           0.132   Prob(JB):                       0.0272\n",
      "Kurtosis:                       3.323   Cond. No.                         11.9\n",
      "==============================================================================\n",
      "\n",
      "Warnings:\n",
      "[1] Standard Errors assume that the covariance matrix of the errors is correctly specified.\n"
     ]
    },
    {
     "data": {
      "text/plain": [
       "const          4.161933\n",
       "citric acid    0.532302\n",
       "sulphates      2.102607\n",
       "dtype: float64"
      ]
     },
     "execution_count": 4,
     "metadata": {},
     "output_type": "execute_result"
    }
   ],
   "source": [
    "X = df[['citric acid','sulphates']] \n",
    "y = df.loc[:,'quality']\n",
    "\n",
    "statsModel(X, y)"
   ]
  },
  {
   "cell_type": "markdown",
   "metadata": {},
   "source": [
    "e. Compare the goodness of fit of the three models you have from b, c, and d. Which one do you think is a better fit for the data you have? Explain your answer using the R<sup>2</sup>, adj-R<sup>2</sup>, AIC, and BIC, if necessarry."
   ]
  },
  {
   "cell_type": "code",
   "execution_count": 5,
   "metadata": {},
   "outputs": [
    {
     "ename": "SyntaxError",
     "evalue": "EOF while scanning triple-quoted string literal (<ipython-input-5-99c64d66bed5>, line 10)",
     "output_type": "error",
     "traceback": [
      "\u001b[0;36m  File \u001b[0;32m\"<ipython-input-5-99c64d66bed5>\"\u001b[0;36m, line \u001b[0;32m10\u001b[0m\n\u001b[0;31m    and b is highest, indicating that d is the best fit!\u001b[0m\n\u001b[0m                                                        \n^\u001b[0m\n\u001b[0;31mSyntaxError\u001b[0m\u001b[0;31m:\u001b[0m EOF while scanning triple-quoted string literal\n"
     ]
    }
   ],
   "source": [
    "## Your discussion goes here\n",
    "'''\n",
    "As far as the singular regression models go, \n",
    "the model from c is better than the model from a as it has a higher R^2. \n",
    "Also according to R^2, d has the best fit of all three models. \n",
    "However, adding in more variables will increase the R^2 natrually, and so it does not necessarily mean \n",
    "that it is actually a better fit. Because of this we look at the adj-R^2 value. The adjusted R^2 shows \n",
    "the same result (it is the highest of the three), so still d is the better fit of the three models.\n",
    "For AIC, the lower the number the better, so this is consistent with the R^2 results, as d is lowest \n",
    "and b is highest, indicating that d is the best fit!\n"
   ]
  },
  {
   "cell_type": "code",
   "execution_count": null,
   "metadata": {},
   "outputs": [],
   "source": [
    ")"
   ]
  }
 ],
 "metadata": {
  "kernelspec": {
   "display_name": "Python 3",
   "language": "python",
   "name": "python3"
  },
  "language_info": {
   "codemirror_mode": {
    "name": "ipython",
    "version": 3
   },
   "file_extension": ".py",
   "mimetype": "text/x-python",
   "name": "python",
   "nbconvert_exporter": "python",
   "pygments_lexer": "ipython3",
   "version": "3.7.4"
  }
 },
 "nbformat": 4,
 "nbformat_minor": 2
}
